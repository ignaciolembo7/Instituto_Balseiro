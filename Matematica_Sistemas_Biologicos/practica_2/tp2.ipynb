{
 "cells": [
  {
   "cell_type": "markdown",
   "metadata": {},
   "source": [
    "# 1. Distribución binomial\n",
    "\n",
    "Considere una población de individuos que no se reproducen, y que evolucionan en tiempo discreto. A cada paso de tiempo cada uno de ellos puede morir con probabilidad $d$. Calcule numéricamente la distribución de probabilidad de la población en función del tiempo (para algunos tiempos, y para un par de valores de d). Compare con la distribución binomial exacta."
   ]
  },
  {
   "cell_type": "code",
   "execution_count": null,
   "metadata": {},
   "outputs": [],
   "source": [
    "import numpy as np\n",
    "import matplotlib.pyplot as plt\n",
    "import seaborn as sns\n",
    "from scipy.stats import binom\n",
    "from simulations import binomial_simulation"
   ]
  },
  {
   "cell_type": "markdown",
   "metadata": {},
   "source": [
    "# Población viva en función del tiempo"
   ]
  },
  {
   "cell_type": "code",
   "execution_count": null,
   "metadata": {},
   "outputs": [],
   "source": [
    "import numpy as np\n",
    "import matplotlib.pyplot as plt\n",
    "\n",
    "# Parámetros\n",
    "N0 = 100  # Población inicial\n",
    "d_values = [0.1, 0.3, 0.5, 0.8]  # Diferentes probabilidades de muerte\n",
    "time_steps = 10  # Número de pasos de tiempo a considerar\n",
    "\n",
    "# Simulación numérica\n",
    "np.random.seed(42)  # Fijar semilla para reproducibilidad\n",
    "\n",
    "def simulate_population(N0, d, time_steps):\n",
    "    population = N0\n",
    "    populations = [N0]\n",
    "    for t in range(1, time_steps + 1):\n",
    "        alive = np.random.binomial(population, 1 - d)\n",
    "        populations.append(alive)\n",
    "        population = alive\n",
    "    return populations\n",
    "\n",
    "# Resultados para diferentes valores de d\n",
    "results = {d: simulate_population(N0, d, time_steps) for d in d_values}\n",
    "\n",
    "# Comparación con la distribución binomial exacta\n",
    "time_points = range(time_steps + 1)\n",
    "\n",
    "# Gráficas\n",
    "plt.figure(figsize=(16, 12))\n",
    "\n",
    "for i, d in enumerate(d_values):\n",
    "    plt.subplot(2, 2, i + 1)\n",
    "    \n",
    "    simulated_populations = results[d]\n",
    "    exact_binom_means = [N0 * (1 - d) ** t for t in time_points]\n",
    "    exact_binom_vars = [N0 * (1 - d) ** t * (1 - (1 - d) ** t) for t in time_points]\n",
    "    \n",
    "    plt.plot(time_points, simulated_populations, 'o-', label='Simulado')\n",
    "    plt.plot(time_points, exact_binom_means, 's--', label='Binomial Media')\n",
    "    plt.fill_between(time_points,\n",
    "                     np.array(exact_binom_means) - 1.96 * np.sqrt(exact_binom_vars),\n",
    "                     np.array(exact_binom_means) + 1.96 * np.sqrt(exact_binom_vars),\n",
    "                     color='gray', alpha=0.2, label='Binomial 95% CI')\n",
    "    \n",
    "    plt.title(f'Probabilidad de muerte d = {d}')\n",
    "    plt.xlabel('Tiempo')\n",
    "    plt.ylabel('Población viva')\n",
    "    plt.legend()\n",
    "\n",
    "plt.tight_layout()\n",
    "plt.show()"
   ]
  },
  {
   "cell_type": "markdown",
   "metadata": {},
   "source": [
    "# Distribución de población para distintos $d$ y tiempo fijo"
   ]
  },
  {
   "cell_type": "code",
   "execution_count": null,
   "metadata": {},
   "outputs": [],
   "source": [
    "# Parámetros\n",
    "N0 = 100  # Población inicial\n",
    "time_step = 4  # Probabilidad de muerte\n",
    "num_simulations = 10000  # Número de simulaciones\n",
    "\n",
    "\n",
    "simulation = binomial_simulation(num_simulations, N0)"
   ]
  },
  {
   "cell_type": "code",
   "execution_count": null,
   "metadata": {},
   "outputs": [],
   "source": [
    "d_values = [0.05, 0.1, 0.2, 0.3, 0.4, 0.5, 0.6]  \n",
    "\n",
    "plt.figure(figsize=(16, 8))\n",
    "palette = sns.color_palette('deep', n_colors=len(d_values) + 1)\n",
    "\n",
    "for i, d in enumerate(d_values):\n",
    "\n",
    "    populations = simulation.simulate_population(d = d, time_step = time_step)\n",
    "    \n",
    "    # Histograma de la población viva\n",
    "    plt.hist(populations, bins=np.arange(N0+1), density=True, alpha=0.5, label=f'$d$ = {d}', color=palette[i])\n",
    "    \n",
    "    # Distribución binomial exacta\n",
    "    plt.plot(range(N0+1), binom.pmf(range(N0+1), N0, (1 - d) ** time_step), 'o--', color=palette[i])\n",
    "\n",
    "plt.title(f'Histograma de la población viva y distribución binomial exacta para $t = {time_step}$')\n",
    "plt.xlabel(f'Población viva a tiempo $t = {time_step}$')\n",
    "plt.ylabel(f'P(n,t)')\n",
    "plt.legend(title=\"Probabilidad de morir $d$:\")\n",
    "plt.grid(True)\n",
    "plt.show()"
   ]
  },
  {
   "cell_type": "markdown",
   "metadata": {},
   "source": [
    "# Distribución de población para distintos tiempos y $d$ fijo"
   ]
  },
  {
   "cell_type": "code",
   "execution_count": null,
   "metadata": {},
   "outputs": [],
   "source": [
    "# Parámetros\n",
    "N0 = 100  # Población inicial\n",
    "d = 0.3  # Probabilidad de muerte\n",
    "num_simulations = 10000  # Número de simulaciones\n",
    "\n",
    "simulation = binomial_simulation(num_simulations, N0)"
   ]
  },
  {
   "cell_type": "code",
   "execution_count": null,
   "metadata": {},
   "outputs": [],
   "source": [
    "time_steps = [1, 2, 3, 4, 5, 6, 7, 8]  # Diferentes números de pasos de tiempo a considerar\n",
    "\n",
    "plt.figure(figsize=(16, 8))\n",
    "palette = sns.color_palette('deep', n_colors=len(time_steps) + 1)\n",
    "\n",
    "for i, time_step in enumerate(time_steps):\n",
    "    \n",
    "    populations = simulation.simulate_population(d=d, time_step=time_step)\n",
    "    \n",
    "    # Histograma de la población viva\n",
    "    plt.hist(populations, bins=np.arange(N0+1), density=True, alpha=0.5, label=f'$t$ = {time_step}', color=palette[i])\n",
    "    \n",
    "    # Distribución binomial exacta\n",
    "    plt.plot(range(N0+1), binom.pmf(range(N0+1), N0, (1 - d) ** time_step), 'o--', color=palette[i])\n",
    "\n",
    "plt.title(f'Histograma de la población viva y distribución binomial exacta para $d = {d}$')\n",
    "plt.xlabel(f'Población viva a tiempo $t$')\n",
    "plt.ylabel(f'P(n,t)')\n",
    "plt.legend(title=\"Tiempo:\")\n",
    "plt.grid(True)\n",
    "plt.show()"
   ]
  },
  {
   "cell_type": "markdown",
   "metadata": {},
   "source": [
    "# 2. Ecuaciones de Langevin\n",
    "\n",
    "Considere una población continua $x(t)$, con una dinámica multiplicativa en tiempo discreto y un ruido aditivo: $$x(t + 1) = a x(t) + z(t),$$ donde la variable estocástica $z(t)$ tiene distribución gaussiana con media cero y desviación estándar $\\sigma$. Simule una docena de trayectorias del sistema, partiendo de $x(0) = 1$ y usando $a = 1.05$, $\\sigma = 0.2$, hasta tiempo $50$. Compare las trayectorias estocásticas con la correspondiente dinámica sin ruido, en un gráfico de $x$ en función del tiempo. Simule un ensemble de trayectorias y calcule la distribución de probabilidad $P(x, t)$, y grafíquela (ya sea en 3D, o usando t como parámetro). Haga lo mismo para una dinámica con ruido multiplicativo: $$x(t + 1) = a x(t) + z(t) x(t).$$"
   ]
  },
  {
   "cell_type": "code",
   "execution_count": null,
   "metadata": {},
   "outputs": [],
   "source": [
    "import numpy as np\n",
    "import matplotlib.pyplot as plt\n",
    "import seaborn as sns\n",
    "from simulations import langevin_simulation"
   ]
  },
  {
   "cell_type": "code",
   "execution_count": null,
   "metadata": {},
   "outputs": [],
   "source": [
    "# Parámetros del sistema\n",
    "a = 1.05\n",
    "sigma = 0.2\n",
    "x0 = 1\n",
    "time_steps = 50\n",
    "\n",
    "num_trajectories = 12\n",
    "ensemble_size = 100000\n",
    "\n",
    "simulation = langevin_simulation(a, sigma, x0, time_steps)"
   ]
  },
  {
   "cell_type": "code",
   "execution_count": null,
   "metadata": {},
   "outputs": [],
   "source": [
    "# Simulación de las trayectorias estocásticas\n",
    "print('Simulación con ruido aditivo:')\n",
    "trajectories_additive = simulation.simulate_trajectories_additive(num_trajectories=num_trajectories)\n",
    "print('\\nSimulación con ruido multiplicativo:')\n",
    "trajectories_multiplicative = simulation.simulate_trajectories_multiplicative(num_trajectories=num_trajectories)"
   ]
  },
  {
   "cell_type": "code",
   "execution_count": null,
   "metadata": {},
   "outputs": [],
   "source": [
    "# Dinámica sin ruido\n",
    "x_deterministic = [x0 * (a ** t) for t in range(time_steps + 1)]\n",
    "\n",
    "# Gráfico de las trayectorias estocásticas y la dinámica sin ruido\n",
    "time_points = np.arange(time_steps + 1)\n",
    "plt.figure(figsize=(14, 6))\n",
    "\n",
    "# Ruido aditivo\n",
    "plt.subplot(1, 2, 1)\n",
    "for i in range(num_trajectories):\n",
    "    plt.plot(time_points, trajectories_additive[i], alpha=0.75)\n",
    "plt.plot(time_points, x_deterministic, 'k--', linewidth=2, label='Sin ruido')\n",
    "plt.title('Trayectorias con ruido aditivo')\n",
    "plt.xlabel('Tiempo')\n",
    "plt.ylabel('x(t)')\n",
    "plt.legend()\n",
    "\n",
    "# Ruido multiplicativo\n",
    "plt.subplot(1, 2, 2)\n",
    "for i in range(num_trajectories):\n",
    "    plt.plot(time_points, trajectories_multiplicative[i], alpha=0.75)\n",
    "plt.plot(time_points, x_deterministic, 'k--', linewidth=2, label='Sin ruido')\n",
    "plt.title('Trayectorias con ruido multiplicativo')\n",
    "plt.xlabel('Tiempo')\n",
    "plt.ylabel('x(t)')\n",
    "plt.legend()\n",
    "plt.tight_layout()\n",
    "plt.show()"
   ]
  },
  {
   "cell_type": "code",
   "execution_count": null,
   "metadata": {},
   "outputs": [],
   "source": [
    "# Simulación del ensemble\n",
    "print(f\"Simulación con ruido aditivo:\")\n",
    "ensemble_additive = simulation.simulate_trajectories_additive(num_trajectories = ensemble_size)\n",
    "print(f\"Simulación con ruido multiplicativo:\")\n",
    "ensemble_multiplicative = simulation.simulate_trajectories_multiplicative(num_trajectories = ensemble_size)"
   ]
  },
  {
   "cell_type": "code",
   "execution_count": null,
   "metadata": {},
   "outputs": [],
   "source": [
    "time_intervals = [10, 20, 30, 40, 50]\n",
    "\n",
    "plt.figure(figsize=(14, 6))\n",
    "\n",
    "# Ruido aditivo\n",
    "plt.subplot(1, 2, 1)\n",
    "for t in time_intervals:\n",
    "    sns.histplot(ensemble_additive[:, t], kde=True, label=f't = {t}', bins=50)\n",
    "plt.title('Distribución de P(x, t) con ruido aditivo')\n",
    "plt.xlabel('x(t)')\n",
    "plt.ylabel('Frecuencia')\n",
    "plt.legend()\n",
    "# Ruido multiplicativo\n",
    "plt.subplot(1, 2, 2)\n",
    "for t in time_intervals:\n",
    "    ax = sns.histplot(ensemble_multiplicative[:, t], kde=True, label=f't = {t}', bins=500)\n",
    "    ax.set_xlim(0, 150)\n",
    "plt.title('Distribución de P(x, t) con ruido multiplicativo')\n",
    "plt.xlabel('x(t)')\n",
    "plt.ylabel('Frecuencia')\n",
    "plt.legend()\n",
    "plt.tight_layout()\n",
    "plt.show()"
   ]
  },
  {
   "cell_type": "markdown",
   "metadata": {},
   "source": [
    "# 3. Simulación estocástica\n",
    "\n",
    "Considere un sistema con reproducción y competencia intraespecífica, del tipo:\n",
    "\n",
    "\\begin{aligned}\n",
    "    A & \\xrightarrow{b} A + A \\\\\n",
    "    A + A & \\xrightarrow{d} A\n",
    "\\end{aligned}\n",
    "\n",
    "    \n",
    "Simule la evolución de la población usando el algoritmo de Gillespie. Usando distintos valores de las tasas $b$ y $d$, y distintas condiciones iniciales, observe los distintos comportamientos, tanto transitorios como asintóticos. Grafique algunos casos característicos, comparándolos con la solución de la ecuación logística que da el comportamiento macroscópico. \n",
    "\n",
    "Para una elección de $b$ y $d$ que permita un estado estacionario positivo (por ejemplo, $b = 0.1$, $d = 0.001$ da un valor medio estacionario $\\langle x \\rangle = 100$), use múltiples realizaciones para calcular la distribución estacionaria $P(x)$. \n",
    "\n",
    "Para una elección de $b$ y $d$ que produzca extinciones por fluctuaciones ($b = 0.1$, $d = 0.02$, $n(0) = 10$), use múltiples realizaciones para calcular la distribución del tiempo de extinción."
   ]
  },
  {
   "cell_type": "code",
   "execution_count": null,
   "metadata": {},
   "outputs": [],
   "source": [
    "import numpy as np\n",
    "import matplotlib.pyplot as plt\n",
    "from tqdm import tqdm\n",
    "from simulations import gillespie_simulation"
   ]
  },
  {
   "cell_type": "markdown",
   "metadata": {},
   "source": [
    "# Elección de $b$ y $d$ para obtener un estado estacionario positivo "
   ]
  },
  {
   "cell_type": "code",
   "execution_count": 24,
   "metadata": {},
   "outputs": [],
   "source": [
    "b = 0.1 \n",
    "d = 0.001\n",
    "n0 = 10\n",
    "T = 1000  # Tiempo máximo de simulación\n",
    "ensemble_size = 10000\n",
    "\n",
    "simulation = gillespie_simulation() "
   ]
  },
  {
   "cell_type": "code",
   "execution_count": null,
   "metadata": {},
   "outputs": [],
   "source": [
    "time_points, population = simulation.gillespie_algorithm(b = b, d = d, n0 = n0, T = T)\n",
    "x_mean = np.mean(population[150:])\n",
    "print(f'Valor medio de la población en estado estacionario: {x_mean}')"
   ]
  },
  {
   "cell_type": "code",
   "execution_count": null,
   "metadata": {},
   "outputs": [],
   "source": [
    "plt.figure(figsize=(12, 6))\n",
    "plt.plot(time_points, population)\n",
    "plt.axhline(y=x_mean, color='r', linestyle='--', label=f'Estado estacionario: $\\\\langle x \\\\rangle$ = {x_mean}')\n",
    "plt.xlabel(f'Tiempo')\n",
    "plt.ylabel(f'Población')\n",
    "plt.title(f'Evolución de la población: $b={b}$, $d={d}$, $n_0={n0}$')\n",
    "plt.legend(loc = 'lower right')\n",
    "plt.show()"
   ]
  },
  {
   "cell_type": "code",
   "execution_count": null,
   "metadata": {},
   "outputs": [],
   "source": [
    "population_at_T = []\n",
    "\n",
    "for _ in tqdm(range(ensemble_size)):\n",
    "    time_points, population = simulation.gillespie_algorithm(b = b, d = d, n0 = n0, T = T)\n",
    "    population_at_T.append(population[-1])"
   ]
  },
  {
   "cell_type": "code",
   "execution_count": 25,
   "metadata": {},
   "outputs": [
    {
     "data": {
      "text/plain": [
       "Text(0, 0.5, 'Frecuencia')"
      ]
     },
     "execution_count": 25,
     "metadata": {},
     "output_type": "execute_result"
    },
    {
     "data": {
      "image/png": "[encoded data removed]",
      "text/plain": [
       "<Figure size 1200x600 with 1 Axes>"
      ]
     },
     "metadata": {},
     "output_type": "display_data"
    }
   ],
   "source": [
    "plt.figure(figsize=(12, 6))\n",
    "sns.histplot(population_at_T, kde=True, bins=20)\n",
    "plt.title(f'Distribución estacionaria para: $b={b}$, $d={d}$, $n_0={n0}$, $t = {T}$')\n",
    "plt.xlabel('x(t)')\n",
    "plt.ylabel('Frecuencia')"
   ]
  },
  {
   "cell_type": "markdown",
   "metadata": {},
   "source": [
    "# Elección de $b$ y $d$ para que se produzcan extinciones por fluctuaciones"
   ]
  },
  {
   "cell_type": "code",
   "execution_count": null,
   "metadata": {},
   "outputs": [],
   "source": [
    "b = 0.1\n",
    "d = 1\n",
    "n0 = 5\n",
    "T = 1000  # Tiempo máximo de simulación\n",
    "\n",
    "simulation = gillespie_simulation() "
   ]
  },
  {
   "cell_type": "code",
   "execution_count": null,
   "metadata": {},
   "outputs": [],
   "source": [
    "time_points, population = simulation.gillespie_algorithm(b = b, d = d, n0 = n0, T = T)"
   ]
  },
  {
   "cell_type": "code",
   "execution_count": null,
   "metadata": {},
   "outputs": [],
   "source": [
    "plt.figure(figsize=(12, 6))\n",
    "plt.plot(time_points, population)\n",
    "plt.xlabel(f'Tiempo')\n",
    "plt.ylabel(f'Población')\n",
    "plt.title(f'Evolución de la población: $b={b}$, $d={d}$, $n_0={n0}$')\n",
    "plt.show()"
   ]
  }
 ],
 "metadata": {
  "kernelspec": {
   "display_name": "Python 3",
   "language": "python",
   "name": "python3"
  },
  "language_info": {
   "codemirror_mode": {
    "name": "ipython",
    "version": 3
   },
   "file_extension": ".py",
   "mimetype": "text/x-python",
   "name": "python",
   "nbconvert_exporter": "python",
   "pygments_lexer": "ipython3",
   "version": "3.11.2"
  }
 },
 "nbformat": 4,
 "nbformat_minor": 2
}
